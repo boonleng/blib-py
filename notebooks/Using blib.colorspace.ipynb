{
 "cells": [
  {
   "cell_type": "code",
   "execution_count": null,
   "metadata": {},
   "outputs": [],
   "source": [
    "%matplotlib inline\n",
    "\n",
    "import blib\n",
    "\n",
    "blib.useTheme(\"dark\")"
   ]
  },
  {
   "cell_type": "code",
   "execution_count": null,
   "metadata": {},
   "outputs": [],
   "source": [
    "# import matplotlib\n",
    "# im = matplotlib.pyplot.imread('blob/colormap.png')\n",
    "# rgb = im[2, :, :].squeeze()\n",
    "# blib.colorspace(rgb)"
   ]
  },
  {
   "cell_type": "code",
   "execution_count": null,
   "metadata": {},
   "outputs": [],
   "source": [
    "zmap = blib.zmap()\n",
    "blib.colorspace(zmap)"
   ]
  },
  {
   "cell_type": "code",
   "execution_count": null,
   "metadata": {
    "scrolled": false
   },
   "outputs": [],
   "source": [
    "blib.colorspace(blib.rgmap())\n",
    "blib.colorspace(blib.wmap())\n",
    "blib.colorspace(blib.dmap())\n",
    "blib.colorspace(blib.pmap())\n",
    "blib.colorspace(blib.rmap())"
   ]
  },
  {
   "cell_type": "code",
   "execution_count": null,
   "metadata": {},
   "outputs": [],
   "source": [
    "# import importlib\n",
    "# blib = importlib.reload(blib)\n",
    "# blib.colormap = importlib.reload(blib.colormap)\n",
    "\n",
    "blib.colorspace(blib.vmap())\n",
    "blib.colorspace(blib.vmap(64))"
   ]
  },
  {
   "cell_type": "code",
   "execution_count": null,
   "metadata": {},
   "outputs": [],
   "source": [
    "blib.colorspace(blib.vmap())"
   ]
  },
  {
   "cell_type": "code",
   "execution_count": null,
   "metadata": {},
   "outputs": [],
   "source": [
    "from blib import fleximap"
   ]
  },
  {
   "cell_type": "code",
   "execution_count": null,
   "metadata": {},
   "outputs": [],
   "source": [
    "def rszmap(count=32):\n",
    "    if count < 32 or count % 2:\n",
    "        print('Count should be an even number greater or equal to 32\\n');\n",
    "        count = 32\n",
    "    xp = [0.0,                                  # Hot Magenta\n",
    "        (count *  5 / 32 - 1) / (count - 1),    # Blue\n",
    "        (count *  8 / 32 - 1) / (count - 1),    # Cyan\n",
    "        (count * 10 / 32 - 1) / (count - 1),    # Light Cyan\n",
    "        (count * 13 / 32 - 1) / (count - 1),    # Green\n",
    "        (count * 15 / 32 - 1) / (count - 1),    # Dark Green\n",
    "        (count * 15 / 32) / (count - 1),        # Grayish Green\n",
    "        0.5,                                    # Middle\n",
    "        (count * 17 / 32 - 1) / (count - 1),    # Grayish Red\n",
    "        (count * 17 / 32) / (count - 1),        # Dark Red\n",
    "        (count * 19 / 32) / (count - 1),        # Red\n",
    "        (count * 22 / 32) / (count - 1),        # Pink\n",
    "        (count * 24 / 32) / (count - 1),        # Light Peach\n",
    "        (count * 27 / 32) / (count - 1),        # Dark Orange\n",
    "        1.0]                                    # Dark Brown\n",
    "    cp = [\n",
    "        [1.00, 0.00, 0.50],                     # Magenta\n",
    "        [0.00, 0.00, 0.60],                     # Blue\n",
    "        [0.00, 1.00, 1.00],                     # Cyan\n",
    "        [0.65, 1.00, 1.00],                     # Light Cyan\n",
    "        [0.00, 1.00, 0.00],                     # Green\n",
    "        [0.00, 0.40, 0.00],                     # Dark Green\n",
    "        [0.35, 0.50, 0.35],                     # Grayish Green\n",
    "        [0.55, 0.55, 0.55],                     # Gray\n",
    "        [0.50, 0.35, 0.35],                     # Grayish Red\n",
    "        [0.40, 0.00, 0.00],                     # Dark Red\n",
    "        [1.00, 0.00, 0.00],                     # Red\n",
    "        [1.00, 0.50, 0.70],                     # Pink\n",
    "        [1.00, 0.90, 0.60],                     # Light Peach\n",
    "        [1.00, 0.45, 0.25],                     # Dark Orange\n",
    "        [0.30, 0.00, 0.00]                      # Dark Brown\n",
    "    ]\n",
    "    rgb = fleximap(count, xp, cp)\n",
    "    return rgb"
   ]
  },
  {
   "cell_type": "code",
   "execution_count": null,
   "metadata": {},
   "outputs": [],
   "source": [
    "blib.colorspace(rszmap())"
   ]
  }
 ],
 "metadata": {
  "kernelspec": {
   "display_name": "Python 3",
   "language": "python",
   "name": "python3"
  },
  "language_info": {
   "codemirror_mode": {
    "name": "ipython",
    "version": 3
   },
   "file_extension": ".py",
   "mimetype": "text/x-python",
   "name": "python",
   "nbconvert_exporter": "python",
   "pygments_lexer": "ipython3",
   "version": "3.11.4"
  }
 },
 "nbformat": 4,
 "nbformat_minor": 2
}
