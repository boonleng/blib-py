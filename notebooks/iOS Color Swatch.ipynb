{
 "cells": [
  {
   "cell_type": "code",
   "execution_count": null,
   "metadata": {},
   "outputs": [],
   "source": [
    "import os\n",
    "import numpy as np\n",
    "\n",
    "import matplotlib\n",
    "import matplotlib.pyplot as plt\n",
    "import matplotlib.image as mpimg"
   ]
  },
  {
   "cell_type": "code",
   "execution_count": null,
   "metadata": {},
   "outputs": [],
   "source": [
    "# Read a color chart image, make a mutable copy\n",
    "cc = mpimg.imread('blob/ios-1.png')"
   ]
  },
  {
   "cell_type": "code",
   "execution_count": null,
   "metadata": {},
   "outputs": [],
   "source": [
    "plt.imshow(cc[:300, :, :])\n",
    "\n",
    "cmap = []"
   ]
  },
  {
   "cell_type": "code",
   "execution_count": null,
   "metadata": {},
   "outputs": [],
   "source": [
    "im = np.array(cc.copy(), dtype=np.float32)\n",
    "\n",
    "# Dimension on each side to extract color\n",
    "n = 5\n",
    "i = np.arange(5 * 21)\n",
    "xx = [int(s) for s in (i % n) * 120 + 30]\n",
    "yy = [int(s) for s in np.floor(i / n) * 120 + 50]\n",
    "\n",
    "for x, y in list(zip(xx, yy)):\n",
    "    # Compute average of the patch\n",
    "    patch = im[y:y+n, x:x+n, :]\n",
    "    clr = np.mean(patch, axis=(0, 1))\n",
    "\n",
    "    # Draw a box around the patch that is used\n",
    "    im[y-1    , x-1:x+n+1, :] = 1.0\n",
    "    im[y+n    , x-1:x+n+1, :] = 1.0\n",
    "    im[y-1:y+n+1, x-1    , :] = 1.0\n",
    "    im[y-1:y+n+1, x+n    , :] = 1.0\n",
    "\n",
    "    cmap.append(clr)\n",
    "\n",
    "    # Show the values\n",
    "    #print('[{:.4f} {:.4f} {:.4f} {:.4f}] -> [{:.4f} {:.4f} {:.4f} {:.4f}]'.format(patch[0, 0, 0], patch[0, 0, 1], patch[0, 0, 2], patch[0, 0, 3], clr[0], clr[1], clr[2], clr[3]))"
   ]
  },
  {
   "cell_type": "code",
   "execution_count": null,
   "metadata": {
    "scrolled": true
   },
   "outputs": [],
   "source": [
    "plt.imshow(im[-200:, :, :])"
   ]
  },
  {
   "cell_type": "code",
   "execution_count": null,
   "metadata": {},
   "outputs": [],
   "source": [
    "# Truncate the last row (5 elements) since it is repeated in the next image\n",
    "cmap = cmap[:-5]"
   ]
  },
  {
   "cell_type": "code",
   "execution_count": null,
   "metadata": {},
   "outputs": [],
   "source": [
    "cc = mpimg.imread('blob/ios-2.png')"
   ]
  },
  {
   "cell_type": "code",
   "execution_count": null,
   "metadata": {},
   "outputs": [],
   "source": [
    "im = np.array(cc.copy(), dtype=np.float32)\n",
    "\n",
    "# Dimension on each side to extract color\n",
    "n = 5\n",
    "i = np.arange(5 * 21)\n",
    "xx = [int(s) for s in (i % n) * 120 + 30]\n",
    "yy = [int(s) for s in np.floor(i / n) * 120 + 50]\n",
    "\n",
    "for x, y in list(zip(xx, yy)):\n",
    "    # Compute average of the patch\n",
    "    patch = im[y:y+n, x:x+n, :]\n",
    "    clr = np.mean(patch, axis=(0, 1))\n",
    "\n",
    "    # Draw a box around the patch that is used\n",
    "    im[y-1    , x-1:x+n+1, :] = 1.0\n",
    "    im[y+n    , x-1:x+n+1, :] = 1.0\n",
    "    im[y-1:y+n+1, x-1    , :] = 1.0\n",
    "    im[y-1:y+n+1, x+n    , :] = 1.0\n",
    "\n",
    "    cmap.append(clr)"
   ]
  },
  {
   "cell_type": "code",
   "execution_count": null,
   "metadata": {
    "scrolled": false
   },
   "outputs": [],
   "source": [
    "M = 5\n",
    "\n",
    "fig = matplotlib.pyplot.figure(figsize=(0.3 * M, 0.3 * int(np.ceil(len(cmap) / M))), dpi=200, frameon=False)\n",
    "ax = fig.add_axes([0, 0, 1, 1], facecolor='k')\n",
    "\n",
    "for i in range(len(cmap)):\n",
    "    x = float(i % M)\n",
    "    y = float(int(i / M))\n",
    "    rgb = [int(255 * c) for c in cmap[i]]\n",
    "    if (0.2126 * rgb[0] + 0.7152 * rgb[1] + 0.0722 * rgb[2]) >= 128:\n",
    "        fc = 'k'\n",
    "    else:\n",
    "        fc = 'w'\n",
    "    matplotlib.pyplot.plot(x, y, '.', markersize=40, color=cmap[i])\n",
    "    matplotlib.pyplot.text(x, y, '{:02X}{:02X}{:02X}'.format(rgb[0], rgb[1], rgb[2]), color=fc, size=5, ha='center', va='center')\n",
    "\n",
    "ax.xaxis.set_visible(False)\n",
    "ax.yaxis.set_visible(False)\n",
    "ax.set_xlim([-0.5, M - 0.5])\n",
    "ax.set_ylim([-0.5, np.ceil(len(cmap) / M) - 0.5])\n",
    "ax.invert_yaxis()\n",
    "# fig.savefig(os.path.expanduser('blob/ios-color-code.png'))"
   ]
  },
  {
   "cell_type": "code",
   "execution_count": null,
   "metadata": {
    "scrolled": false
   },
   "outputs": [],
   "source": [
    "M = 5\n",
    "w = 0.9\n",
    "h = 0.5\n",
    "s = 0.05\n",
    "ww = w + s\n",
    "hh = h + s\n",
    "\n",
    "fig = matplotlib.pyplot.figure(figsize=(M * w, int(np.ceil(len(cmap) / M)) * h), dpi=72, frameon=False)\n",
    "ax = fig.add_axes([0, 0, 1, 1], facecolor='k')\n",
    "\n",
    "for i in range(len(cmap)):\n",
    "    x = float(i % M)\n",
    "    y = float(int(i / M))\n",
    "    rgb = [int(255 * c) for c in cmap[i]]\n",
    "    if (0.2126 * rgb[0] + 0.7152 * rgb[1] + 0.0722 * rgb[2]) >= 128:\n",
    "        fc = 'k'\n",
    "    else:\n",
    "        fc = 'w'\n",
    "    rect = matplotlib.patches.Rectangle(xy=((x - 0.5) * ww + s, (y - 0.5) * hh + s), width=w, height=h, facecolor=cmap[i], fill=True)\n",
    "    ax.add_patch(rect)\n",
    "    matplotlib.pyplot.text(x * ww + 0.5 * s, y * hh + 0.5 * s, '{:02X}{:02X}{:02X}'.format(rgb[0], rgb[1], rgb[2]), color=fc, size=13, ha='center', va='center')\n",
    "\n",
    "ax.xaxis.set_visible(False)\n",
    "ax.yaxis.set_visible(False)\n",
    "ax.set_xlim([-0.5 * ww, (M - 0.5) * ww + s])\n",
    "ax.set_ylim([-0.5 * hh, (np.ceil(len(cmap) / M) - 0.5) * hh + s])\n",
    "ax.invert_yaxis()\n",
    "fig.savefig(os.path.expanduser('blob/ios-color-code-rect.png'))"
   ]
  },
  {
   "cell_type": "code",
   "execution_count": null,
   "metadata": {},
   "outputs": [],
   "source": []
  }
 ],
 "metadata": {
  "kernelspec": {
   "display_name": "Python 3",
   "language": "python",
   "name": "python3"
  },
  "language_info": {
   "codemirror_mode": {
    "name": "ipython",
    "version": 3
   },
   "file_extension": ".py",
   "mimetype": "text/x-python",
   "name": "python",
   "nbconvert_exporter": "python",
   "pygments_lexer": "ipython3",
   "version": "3.11.4"
  }
 },
 "nbformat": 4,
 "nbformat_minor": 4
}
