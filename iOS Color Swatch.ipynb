{
 "cells": [
  {
   "cell_type": "code",
   "execution_count": null,
   "metadata": {},
   "outputs": [],
   "source": [
    "import blib\n",
    "import numpy as np\n",
    "import matplotlib"
   ]
  },
  {
   "cell_type": "code",
   "execution_count": null,
   "metadata": {},
   "outputs": [],
   "source": [
    "# Read a color chart image, make a mutable copy\n",
    "cc = matplotlib.image.imread('blob/IMG_0053.PNG')\n",
    "im = np.zeros(cc.shape, dtype=np.uint8)\n",
    "im[:] = cc[:]"
   ]
  },
  {
   "cell_type": "code",
   "execution_count": null,
   "metadata": {},
   "outputs": [],
   "source": [
    "matplotlib.pyplot.imshow(cc[:400, :1000, :])\n",
    "\n",
    "cmap = []"
   ]
  },
  {
   "cell_type": "code",
   "execution_count": null,
   "metadata": {},
   "outputs": [],
   "source": [
    "im = np.array(cc.copy(), dtype=np.float)\n",
    "\n",
    "# Dimension on each side to extract color\n",
    "n = 5\n",
    "i = np.arange(5 * 21)\n",
    "xx = [int(s) for s in (i % n) * 120 + 200]\n",
    "yy = [int(s) for s in np.floor(i / n) * 120 + 220]\n",
    "\n",
    "for x, y in list(zip(xx, yy)):\n",
    "    # Compute average of the patch\n",
    "    patch = im[y:y+n, x:x+n, :]\n",
    "    clr = np.mean(patch, axis=(0, 1))\n",
    "\n",
    "    # Draw a box around the patch that is used\n",
    "    im[y-1    , x-1:x+n+1, :] = 255\n",
    "    im[y+n    , x-1:x+n+1, :] = 255\n",
    "    im[y-1:y+n+1, x-1    , :] = 255\n",
    "    im[y-1:y+n+1, x+n    , :] = 255\n",
    "    \n",
    "    cmap.append(clr)\n",
    "    \n",
    "    # Show the values\n",
    "    #print('[{:.4f} {:.4f} {:.4f} {:.4f}] -> [{:.4f} {:.4f} {:.4f} {:.4f}]'.format(patch[0, 0, 0], patch[0, 0, 1], patch[0, 0, 2], patch[0, 0, 3], clr[0], clr[1], clr[2], clr[3]))"
   ]
  },
  {
   "cell_type": "code",
   "execution_count": null,
   "metadata": {
    "scrolled": true
   },
   "outputs": [],
   "source": [
    "# matplotlib.pyplot.imshow(im[-200:, :800, :])\n",
    "# matplotlib.pyplot.imshow(im)\n",
    "\n",
    "cmap = cmap[:-5]"
   ]
  },
  {
   "cell_type": "code",
   "execution_count": null,
   "metadata": {},
   "outputs": [],
   "source": [
    "cc = matplotlib.image.imread('blob/IMG_0054.PNG')\n",
    "im = np.zeros(cc.shape, dtype=np.uint8)\n",
    "im[:] = cc[:]"
   ]
  },
  {
   "cell_type": "code",
   "execution_count": null,
   "metadata": {},
   "outputs": [],
   "source": [
    "im = np.array(cc.copy(), dtype=np.float)\n",
    "\n",
    "# Dimension on each side to extract color\n",
    "n = 5\n",
    "i = np.arange(5 * 21)\n",
    "xx = [int(s) for s in (i % n) * 120 + 200]\n",
    "yy = [int(s) for s in np.floor(i / n) * 120 + 220]\n",
    "\n",
    "for x, y in list(zip(xx, yy)):\n",
    "    # Compute average of the patch\n",
    "    patch = im[y:y+n, x:x+n, :]\n",
    "    clr = np.mean(patch, axis=(0, 1))\n",
    "\n",
    "    # Draw a box around the patch that is used\n",
    "    im[y-1    , x-1:x+n+1, :] = 255\n",
    "    im[y+n    , x-1:x+n+1, :] = 255\n",
    "    im[y-1:y+n+1, x-1    , :] = 255\n",
    "    im[y-1:y+n+1, x+n    , :] = 255\n",
    "    \n",
    "    cmap.append(clr)"
   ]
  },
  {
   "cell_type": "code",
   "execution_count": null,
   "metadata": {
    "scrolled": false
   },
   "outputs": [],
   "source": [
    "M = 5\n",
    "\n",
    "fig = matplotlib.pyplot.figure(figsize=(0.5 * M, 0.5 * int(np.ceil(len(cmap) / M))), dpi=180, facecolor='k')\n",
    "ax = fig.add_axes([0, 0, 1, 0.92], frameon=False, facecolor='k')\n",
    "\n",
    "for i in range(len(cmap)):\n",
    "    x = float(i % M)\n",
    "    y = float(int(i / M))\n",
    "    rgb = [int(255 * c) for c in cmap[i]]\n",
    "    if 0.2126 * rgb[0] + 0.7152 * rgb[1] + 0.0722 * rgb[2] >= 128:\n",
    "        fc = 'k'\n",
    "    else:\n",
    "        fc = 'w'\n",
    "    matplotlib.pyplot.plot(x, y, '.', markersize=50, color=cmap[i])\n",
    "    matplotlib.pyplot.text(x, y, '{:02X}{:02X}{:02X}'.format(rgb[0], rgb[1], rgb[2]), color=fc, size=5, ha='center', va='center')\n",
    "\n",
    "ax.set_facecolor('k')\n",
    "ax.xaxis.set_visible(False)\n",
    "ax.yaxis.set_visible(False)\n",
    "ax.set_xlim([-0.5, M - 0.5])\n",
    "ax.set_ylim([-0.5, np.ceil(len(cmap) / M) - 0.5])\n",
    "ax.invert_yaxis()"
   ]
  },
  {
   "cell_type": "code",
   "execution_count": null,
   "metadata": {},
   "outputs": [],
   "source": []
  }
 ],
 "metadata": {
  "kernelspec": {
   "display_name": "Python 3",
   "language": "python",
   "name": "python3"
  },
  "language_info": {
   "codemirror_mode": {
    "name": "ipython",
    "version": 3
   },
   "file_extension": ".py",
   "mimetype": "text/x-python",
   "name": "python",
   "nbconvert_exporter": "python",
   "pygments_lexer": "ipython3",
   "version": "3.7.7"
  }
 },
 "nbformat": 4,
 "nbformat_minor": 4
}
