{
 "cells": [
  {
   "cell_type": "code",
   "execution_count": null,
   "metadata": {
    "collapsed": true
   },
   "outputs": [],
   "source": [
    "%matplotlib inline"
   ]
  },
  {
   "cell_type": "code",
   "execution_count": null,
   "metadata": {
    "collapsed": true
   },
   "outputs": [],
   "source": [
    "import importlib\n",
    "blib = importlib.reload(blib)"
   ]
  },
  {
   "cell_type": "code",
   "execution_count": null,
   "metadata": {
    "collapsed": true
   },
   "outputs": [],
   "source": [
    "import blib\n",
    "import colorsys\n",
    "import matplotlib\n",
    "import matplotlib.pyplot as plt\n",
    "import numpy as np"
   ]
  },
  {
   "cell_type": "code",
   "execution_count": null,
   "metadata": {
    "collapsed": true
   },
   "outputs": [],
   "source": [
    "matplotlib.rcParams['font.family'] = 'serif'\n",
    "matplotlib.rcParams['font.serif'] = ['Arial', 'Helvetica']\n",
    "matplotlib.rcParams['font.sans-serif'] = ['System Font', 'Verdana', 'Arial']\n",
    "matplotlib.rcParams['figure.figsize'] = (8.8889, 5)   # Change the size of plots\n",
    "matplotlib.rcParams['figure.dpi'] = 144"
   ]
  },
  {
   "cell_type": "code",
   "execution_count": null,
   "metadata": {},
   "outputs": [],
   "source": [
    "im = matplotlib.pyplot.imread('blob/colormap.png')\n",
    "im.shape"
   ]
  },
  {
   "cell_type": "code",
   "execution_count": null,
   "metadata": {},
   "outputs": [],
   "source": [
    "plt.imshow(im)"
   ]
  },
  {
   "cell_type": "code",
   "execution_count": null,
   "metadata": {},
   "outputs": [],
   "source": [
    "# rgb = im[0, ::4, :].squeeze()\n",
    "rgb = im[30, :, :].squeeze()"
   ]
  },
  {
   "cell_type": "code",
   "execution_count": null,
   "metadata": {
    "collapsed": true
   },
   "outputs": [],
   "source": [
    "hsv = np.array([colorsys.rgb_to_hsv(r, g, b) for r, g, b in rgb])\n",
    "count = hsv.shape[0]\n",
    "x = np.arange(count)"
   ]
  },
  {
   "cell_type": "code",
   "execution_count": null,
   "metadata": {},
   "outputs": [],
   "source": [
    "# If image width = 1280, 0.8 x 1280 = 1024\n",
    "BACK_RECT = [0.1, 0.11, 0.8, 0.85]\n",
    "LINE_RECT = [0.1, 0.41, 0.8, 0.55]\n",
    "MAIN_RECT = [0.1, 0.11, 0.8, 0.30]\n",
    "\n",
    "linewidth = 1.5\n",
    "\n",
    "# New figure\n",
    "fig = matplotlib.pyplot.figure(figsize=(8.8889, 5), dpi=144)\n",
    "fig.patch.set_alpha(0.0)\n",
    "\n",
    "# Background\n",
    "axb = fig.add_axes(BACK_RECT, frameon=False)\n",
    "axb.yaxis.set_visible(False)\n",
    "axb.xaxis.set_visible(False)\n",
    "\n",
    "# Main axis for images\n",
    "axm = fig.add_axes(MAIN_RECT, label='Images')\n",
    "axm.patch.set_visible(False)\n",
    "\n",
    "# Line axis for lines\n",
    "axl = fig.add_axes(LINE_RECT, label='Lines')\n",
    "axl.patch.set_visible(False)\n",
    "axl.xaxis.set_visible(False)\n",
    "\n",
    "# Draw\n",
    "line_r = matplotlib.lines.Line2D(x, rgb[:, 0], linewidth=linewidth, color='r', label='Red')\n",
    "line_g = matplotlib.lines.Line2D(x, rgb[:, 1], linewidth=linewidth, color='g', label='Green')\n",
    "line_b = matplotlib.lines.Line2D(x, rgb[:, 2], linewidth=linewidth, color='b', label='Blue')\n",
    "line_h = matplotlib.lines.Line2D(x, hsv[:, 0], linewidth=linewidth, color=blib.linecolors[0], label='Hue')\n",
    "line_s = matplotlib.lines.Line2D(x, hsv[:, 1], linewidth=linewidth, color=blib.linecolors[1], label='Saturation')\n",
    "line_v = matplotlib.lines.Line2D(x, hsv[:, 2], linewidth=linewidth, color=blib.linecolors[2], label='Value')\n",
    "axl.add_line(line_r)\n",
    "axl.add_line(line_g)\n",
    "axl.add_line(line_b)\n",
    "axl.add_line(line_h)\n",
    "axl.add_line(line_s)\n",
    "axl.add_line(line_v)\n",
    "\n",
    "# Backdrop gradient\n",
    "cmap = matplotlib.colors.LinearSegmentedColormap.from_list('backdrop', cm)\n",
    "axb.imshow(np.arange(count).reshape(1, -1), cmap=cmap, extent=(0, 1, 0, 1), aspect='auto', alpha=0.2)\n",
    "\n",
    "# Various representations of the colors\n",
    "clr = np.expand_dims(rgb, axis=0)\n",
    "red = np.zeros((1, count, 3)); red[0, :, 0] = rgb[:, 0]\n",
    "grn = np.zeros((1, count, 3)); grn[0, :, 1] = rgb[:, 1]\n",
    "blu = np.zeros((1, count, 3)); blu[0, :, 2] = rgb[:, 2]\n",
    "c = plt.get_cmap('hsv');     hue = np.expand_dims(np.array([c(i)[:3] for i in hsv[:, 0]]), axis=0)\n",
    "c = plt.get_cmap('Purples'); sat = np.expand_dims(np.array([c(i)[:3] for i in hsv[:, 1]]), axis=0)\n",
    "c = plt.get_cmap('gray');    val = np.expand_dims(np.array([c(i)[:3] for i in hsv[:, 2]]), axis=0)\n",
    "\n",
    "# Lower image to show various color components / intrinsic parameters\n",
    "img = np.concatenate((clr, red, grn, blu, hue, sat, val), axis=0)\n",
    "axm.imshow(img, extent=(-0.5, count+0.5, -0.5, 6.5), aspect='auto')\n",
    "\n",
    "# Axis limits, grid, etc.\n",
    "axl.set_xlim([0, count])\n",
    "axl.set_ylim([-0.05, 1.18])\n",
    "axl.set_ylabel('Values')\n",
    "axl.grid(alpha=0.5, color='k', linestyle=':')\n",
    "lines = [line_r, line_g, line_b, line_h, line_s, line_v]\n",
    "leg = axl.legend(handles=lines, loc='upper left', ncol=6, frameon=False, fontsize=9)\n",
    "axm.set_yticks(range(7))\n",
    "_ = axm.set_yticklabels(['Intensity', 'Saturation', 'Hue', 'Blue', 'Green', 'Red', 'Swatch'])"
   ]
  },
  {
   "cell_type": "code",
   "execution_count": null,
   "metadata": {},
   "outputs": [],
   "source": [
    "fig.savefig('/Users/boonleng/Desktop/cmap.png')"
   ]
  },
  {
   "cell_type": "code",
   "execution_count": null,
   "metadata": {
    "collapsed": true
   },
   "outputs": [],
   "source": []
  }
 ],
 "metadata": {
  "kernelspec": {
   "display_name": "Python 3",
   "language": "python",
   "name": "python3"
  },
  "language_info": {
   "codemirror_mode": {
    "name": "ipython",
    "version": 3
   },
   "file_extension": ".py",
   "mimetype": "text/x-python",
   "name": "python",
   "nbconvert_exporter": "python",
   "pygments_lexer": "ipython3",
   "version": "3.6.5"
  }
 },
 "nbformat": 4,
 "nbformat_minor": 2
}
