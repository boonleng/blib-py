{
 "cells": [
  {
   "cell_type": "code",
   "execution_count": null,
   "metadata": {},
   "outputs": [],
   "source": [
    "%matplotlib inline"
   ]
  },
  {
   "cell_type": "code",
   "execution_count": null,
   "metadata": {
    "collapsed": true
   },
   "outputs": [],
   "source": []
  },
  {
   "cell_type": "code",
   "execution_count": null,
   "metadata": {
    "collapsed": true
   },
   "outputs": [],
   "source": [
    "import colorsys\n",
    "import matplotlib\n",
    "import matplotlib.pyplot as plt\n",
    "import numpy as np"
   ]
  },
  {
   "cell_type": "code",
   "execution_count": null,
   "metadata": {
    "collapsed": true
   },
   "outputs": [],
   "source": [
    "matplotlib.rcParams['font.family'] = 'serif'\n",
    "matplotlib.rcParams['font.serif'] = ['Arial', 'Helvetica']\n",
    "matplotlib.rcParams['font.sans-serif'] = ['System Font', 'Verdana', 'Arial']\n",
    "matplotlib.rcParams['figure.figsize'] = (8.89, 5)   # Change the size of plots\n",
    "matplotlib.rcParams['figure.dpi'] = 144"
   ]
  },
  {
   "cell_type": "code",
   "execution_count": null,
   "metadata": {
    "collapsed": true
   },
   "outputs": [],
   "source": [
    "im = matplotlib.pyplot.imread('blob/colormap.png')"
   ]
  },
  {
   "cell_type": "code",
   "execution_count": null,
   "metadata": {},
   "outputs": [],
   "source": [
    "plt.imshow(im)"
   ]
  },
  {
   "cell_type": "code",
   "execution_count": null,
   "metadata": {},
   "outputs": [],
   "source": [
    "cm = im[0, :, :].squeeze()"
   ]
  },
  {
   "cell_type": "code",
   "execution_count": null,
   "metadata": {},
   "outputs": [],
   "source": [
    "hsv.shape"
   ]
  },
  {
   "cell_type": "code",
   "execution_count": null,
   "metadata": {},
   "outputs": [],
   "source": [
    "hsv = np.array([colorsys.rgb_to_hsv(r, g, b) for r, g, b in cm])\n",
    "count = hsv.shape[0]\n",
    "x = np.arange(count)"
   ]
  },
  {
   "cell_type": "code",
   "execution_count": null,
   "metadata": {},
   "outputs": [],
   "source": [
    "BACK_RECT = [0.053, 0.11, 0.9, 0.85]\n",
    "LINE_RECT = [0.053, 0.31, 0.9, 0.54]\n",
    "MAIN_RECT = [0.053, 0.11, 0.9, 0.20]\n",
    "\n",
    "linewidth = 1.5\n",
    "\n",
    "# New figure\n",
    "fig = matplotlib.pyplot.figure()\n",
    "fig.patch.set_alpha(0.0)\n",
    "\n",
    "# Background\n",
    "axb = fig.add_axes(BACK_RECT, frameon=False)\n",
    "axb.yaxis.set_visible(False)\n",
    "axb.xaxis.set_visible(False)\n",
    "\n",
    "# Main axis for images\n",
    "axm = fig.add_axes(MAIN_RECT, label='Images')\n",
    "axm.patch.set_visible(False)\n",
    "\n",
    "# Line axis for lines\n",
    "axl = fig.add_axes(LINE_RECT, label='Lines')\n",
    "axl.patch.set_visible(False)\n",
    "axl.xaxis.set_visible(False)\n",
    "\n",
    "# Draw\n",
    "line_h = matplotlib.lines.Line2D(x, hsv[:, 0], linewidth=linewidth, color='m', label='Hue')\n",
    "line_s = matplotlib.lines.Line2D(x, hsv[:, 1], linewidth=linewidth, color='b', label='Saturation')\n",
    "line_v = matplotlib.lines.Line2D(x, hsv[:, 2], linewidth=linewidth, color='k', label='Value')\n",
    "axl.add_line(line_h)\n",
    "axl.add_line(line_s)\n",
    "axl.add_line(line_v)\n",
    "\n",
    "axl.set_xlim([0, count])\n",
    "axl.set_ylim([-0.05, 1.05])\n",
    "\n",
    "# Backdrop gradient\n",
    "cmap = matplotlib.colors.LinearSegmentedColormap.from_list('backdrop', cm)\n",
    "axb.imshow(np.linspace(0, 1, count).reshape(-1, 1), cmap=cmap, extent=(0, 1, 0, 1), aspect='auto')\n"
   ]
  },
  {
   "cell_type": "code",
   "execution_count": null,
   "metadata": {},
   "outputs": [],
   "source": [
    "plt.plot(x, hsv[:, 0])"
   ]
  },
  {
   "cell_type": "code",
   "execution_count": null,
   "metadata": {
    "collapsed": true
   },
   "outputs": [],
   "source": []
  }
 ],
 "metadata": {
  "kernelspec": {
   "display_name": "Python 3",
   "language": "python",
   "name": "python3"
  },
  "language_info": {
   "codemirror_mode": {
    "name": "ipython",
    "version": 3
   },
   "file_extension": ".py",
   "mimetype": "text/x-python",
   "name": "python",
   "nbconvert_exporter": "python",
   "pygments_lexer": "ipython3",
   "version": "3.6.5"
  }
 },
 "nbformat": 4,
 "nbformat_minor": 2
}
