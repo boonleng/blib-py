{
 "cells": [
  {
   "cell_type": "code",
   "execution_count": null,
   "metadata": {},
   "outputs": [],
   "source": [
    "import array\n",
    "import binascii\n",
    "import importlib\n",
    "import numpy as np\n",
    "import blib\n",
    "import colorsys"
   ]
  },
  {
   "cell_type": "code",
   "execution_count": null,
   "metadata": {},
   "outputs": [],
   "source": [
    "# blib = importlib.reload(blib)"
   ]
  },
  {
   "cell_type": "code",
   "execution_count": null,
   "metadata": {},
   "outputs": [],
   "source": [
    "data = open('blob/z5.0.map', 'rb').read()\n",
    "# data = open('blob/d1.0.map', 'rb').read()\n",
    "# data = open('blob/r5.0.map', 'rb').read()\n",
    "# data = open('blob/k5.0.map', 'rb').read()\n",
    "\n",
    "nums = array.array('B', data)\n",
    "\n",
    "rgba = np.array(nums).reshape(-1, 4) / 255.0\n",
    "blib.colorspace(rgba[:90])"
   ]
  },
  {
   "cell_type": "code",
   "execution_count": null,
   "metadata": {},
   "outputs": [],
   "source": [
    "cmap = blib.zmap()\n",
    "blib.colorspace(cmap[:90])"
   ]
  },
  {
   "cell_type": "code",
   "execution_count": null,
   "metadata": {},
   "outputs": [],
   "source": []
  }
 ],
 "metadata": {
  "kernelspec": {
   "display_name": "Python 3",
   "language": "python",
   "name": "python3"
  },
  "language_info": {
   "codemirror_mode": {
    "name": "ipython",
    "version": 3
   },
   "file_extension": ".py",
   "mimetype": "text/x-python",
   "name": "python",
   "nbconvert_exporter": "python",
   "pygments_lexer": "ipython3",
   "version": "3.6.5"
  }
 },
 "nbformat": 4,
 "nbformat_minor": 2
}
