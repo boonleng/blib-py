{
 "cells": [
  {
   "cell_type": "code",
   "execution_count": null,
   "metadata": {
    "collapsed": true
   },
   "outputs": [],
   "source": [
    "%matplotlib inline\n",
    "import os\n",
    "import numpy as np\n",
    "import matplotlib\n",
    "import colors"
   ]
  },
  {
   "cell_type": "code",
   "execution_count": null,
   "metadata": {
    "collapsed": true
   },
   "outputs": [],
   "source": [
    "matplotlib.rcParams['font.family'] = 'serif'\n",
    "matplotlib.rcParams['font.serif'] = ['Arial']\n",
    "matplotlib.rcParams['font.sans-serif'] = ['System Font', 'Verdana', 'Arial']\n",
    "matplotlib.rcParams['figure.figsize'] = (8, 4)   # Change the size of plots\n",
    "matplotlib.rcParams['figure.dpi'] = 144\n",
    "\n",
    "folder = os.path.expanduser('blob')"
   ]
  },
  {
   "cell_type": "code",
   "execution_count": null,
   "metadata": {
    "collapsed": true
   },
   "outputs": [],
   "source": [
    "# Color array N x 3\n",
    "cl = list(colors.colors.items())\n",
    "cn = [[c[1].red, c[1].green, c[1].blue] for c in colors.colors.items()]\n",
    "cnp = np.array(cn)"
   ]
  },
  {
   "cell_type": "code",
   "execution_count": null,
   "metadata": {},
   "outputs": [],
   "source": [
    "im = matplotlib.image.imread(folder + '/color-chart.jpg')\n",
    "\n",
    "n = 5\n",
    "i = np.arange(42)\n",
    "xx = [int(s) for s in (i % 6) * 120 + 150]\n",
    "yy = [int(s) for s in np.floor(i / 6) * 120 + 196]\n",
    "\n",
    "swatch = []\n",
    "indices = []\n",
    "for x, y in list(zip(xx, yy)):\n",
    "    patch = im[y:y+n, x:x+n, :]\n",
    "    clr = [int(s) for s in np.mean(patch, axis=(0,1))]\n",
    "    mse = np.sqrt(np.mean((cnp - clr) ** 2, axis=1))\n",
    "    idx = np.argmin(mse)\n",
    "    c = cl[idx]\n",
    "    im[y-1    , x-1:x+n+1, :] = 0\n",
    "    im[y+n    , x-1:x+n+1, :] = 0\n",
    "    im[y-1:y+n+1, x-1    , :] = 0\n",
    "    im[y-1:y+n+1, x+n    , :] = 0\n",
    "    \n",
    "    #print('idx = {0:3d} --> [{1:3d} {2:3d} {3:3d}] : {4:5.1f} {5}'.format(idx, clr[0], clr[1], clr[2], mse[idx], c[0]))\n",
    "    swatch.append(c)\n",
    "    indices.append(idx)\n",
    "\n",
    "fig = matplotlib.pyplot.figure(figsize=(9, 4))\n",
    "matplotlib.pyplot.imsave(folder + '/ex.png', im)"
   ]
  },
  {
   "cell_type": "markdown",
   "metadata": {},
   "source": [
    "Make a Pallete Image\n",
    "===\n",
    "\n",
    "This is the part we generate a nice looking image to show off the extrated color"
   ]
  },
  {
   "cell_type": "code",
   "execution_count": null,
   "metadata": {},
   "outputs": [],
   "source": [
    "fig = matplotlib.pyplot.figure(figsize=(9, 4))\n",
    "rect = [0, 0, 1, 0.93]\n",
    "ax = fig.add_axes(rect, frameon = False)\n",
    "M = 6\n",
    "for i in range(42):\n",
    "    x = i % M\n",
    "    y = M - int(i / M)\n",
    "    c = swatch[i]\n",
    "    #print('{0:.2f},{1:.2f} -> {2}'.format(x, y, c[1].hex_format()))\n",
    "    matplotlib.pyplot.plot(x, y, '.', markersize=50, color=c[1].hex_format())\n",
    "    matplotlib.pyplot.text(x + 0.004, y - 0.03, str(i), color='white', va='center', ha='center')\n",
    "    matplotlib.pyplot.text(x + 0.15, y - 0.03, c[0], verticalalignment='center')\n",
    "\n",
    "ax.xaxis.set_visible(False)\n",
    "ax.yaxis.set_visible(False)\n",
    "ax.set_xlim([-0.15, M])\n",
    "ax.set_ylim([-0.5, M + 0.5])\n",
    "fig.suptitle('Pallete', fontweight='bold')"
   ]
  },
  {
   "cell_type": "code",
   "execution_count": null,
   "metadata": {
    "collapsed": true
   },
   "outputs": [],
   "source": [
    "fig.savefig(folder + '/pallete.png', dpi=3*72)"
   ]
  },
  {
   "cell_type": "code",
   "execution_count": null,
   "metadata": {
    "collapsed": true
   },
   "outputs": [],
   "source": []
  }
 ],
 "metadata": {
  "kernelspec": {
   "display_name": "Python 3",
   "language": "python",
   "name": "python3"
  },
  "language_info": {
   "codemirror_mode": {
    "name": "ipython",
    "version": 3
   },
   "file_extension": ".py",
   "mimetype": "text/x-python",
   "name": "python",
   "nbconvert_exporter": "python",
   "pygments_lexer": "ipython3",
   "version": "3.6.4"
  }
 },
 "nbformat": 4,
 "nbformat_minor": 2
}
