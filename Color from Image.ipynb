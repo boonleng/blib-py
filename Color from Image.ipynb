{
 "cells": [
  {
   "cell_type": "code",
   "execution_count": null,
   "metadata": {
    "collapsed": true
   },
   "outputs": [],
   "source": [
    "%matplotlib inline\n",
    "import os\n",
    "import numpy as np\n",
    "import matplotlib\n",
    "import blib"
   ]
  },
  {
   "cell_type": "code",
   "execution_count": null,
   "metadata": {
    "collapsed": true
   },
   "outputs": [],
   "source": [
    "folder = 'blob'"
   ]
  },
  {
   "cell_type": "code",
   "execution_count": null,
   "metadata": {},
   "outputs": [],
   "source": [
    "# Color array N x 3 from sub-module of blib\n",
    "cs = [c[0] for c in blib.colors.colors.items()]\n",
    "cn = [[c[1].red, c[1].green, c[1].blue] for c in blib.colors.colors.items()]\n",
    "cnp = np.array(cn)\n",
    "\n",
    "# Color array N x 3 from matplotlib\n",
    "# cs = [c[0] for c in matplotlib.colors.CSS4_COLORS.items()]\n",
    "# cn = [[int(v * 255) for v in matplotlib.colors.hex2color(c[1])] for c in matplotlib.colors.CSS4_COLORS.items()]\n",
    "# cnp = np.array(cn)\n",
    "\n",
    "# Lab representation\n",
    "ln = blib.rgb2lab(cn)\n",
    "lnp = np.array(ln)"
   ]
  },
  {
   "cell_type": "code",
   "execution_count": null,
   "metadata": {
    "scrolled": true
   },
   "outputs": [],
   "source": [
    "# Read an image\n",
    "im = matplotlib.image.imread(folder + '/color-chart.jpg')\n",
    "\n",
    "# Dimension on each side to extract color\n",
    "n = 5\n",
    "i = np.arange(42)\n",
    "xx = [int(s) for s in (i % 6) * 120 + 150]\n",
    "yy = [int(s) for s in np.floor(i / 6) * 120 + 196]\n",
    "\n",
    "swatch = []\n",
    "indices = []\n",
    "for x, y in list(zip(xx, yy)):\n",
    "    # Compute average of the patch\n",
    "    patch = im[y:y+n, x:x+n, :]\n",
    "    clr = [int(s) for s in np.mean(patch, axis=(0,1))]\n",
    "\n",
    "    # Color matching using RGB\n",
    "    #rms = np.sqrt(np.mean((clr - cnp) ** 2, axis=1))\n",
    "    \n",
    "    # Color matching using Lab\n",
    "    lab = blib.rgb2lab(clr).squeeze()\n",
    "    rms = np.sqrt(np.mean((lab - lnp) ** 2, axis=1))\n",
    "\n",
    "    # Find the best\n",
    "    idx = np.argmin(rms)\n",
    "    c = (cs[idx], blib.colors.RGB(cnp[idx, 0], cnp[idx, 1], cnp[idx, 2]))\n",
    "    im[y-1    , x-1:x+n+1, :] = 0\n",
    "    im[y+n    , x-1:x+n+1, :] = 0\n",
    "    im[y-1:y+n+1, x-1    , :] = 0\n",
    "    im[y-1:y+n+1, x+n    , :] = 0\n",
    "    \n",
    "    print('idx = {0:3d} --> [{1:3d} {2:3d} {3:3d}] : {4:5.1f} {5}'.format(idx, clr[0], clr[1], clr[2], rms[idx], c[0]))\n",
    "    swatch.append(c)\n",
    "    indices.append(idx)\n",
    "\n",
    "# matplotlib.pyplot.imsave(folder + '/ex.png', im)"
   ]
  },
  {
   "cell_type": "markdown",
   "metadata": {},
   "source": [
    "Make a Pallete Image\n",
    "===\n",
    "\n",
    "This is the part we generate a nice looking image to show off the extrated color"
   ]
  },
  {
   "cell_type": "code",
   "execution_count": null,
   "metadata": {},
   "outputs": [],
   "source": [
    "fig = blib.showSwatch(swatch)"
   ]
  },
  {
   "cell_type": "code",
   "execution_count": null,
   "metadata": {
    "collapsed": true
   },
   "outputs": [],
   "source": [
    "fig.savefig(folder + '/pallete-lab.png', dpi=3*72)\n",
    "# fig.savefig('/Users/boonleng/Desktop/pallete.png', dpi=3*72)"
   ]
  },
  {
   "cell_type": "code",
   "execution_count": null,
   "metadata": {
    "collapsed": true
   },
   "outputs": [],
   "source": []
  }
 ],
 "metadata": {
  "kernelspec": {
   "display_name": "Python 3",
   "language": "python",
   "name": "python3"
  },
  "language_info": {
   "codemirror_mode": {
    "name": "ipython",
    "version": 3
   },
   "file_extension": ".py",
   "mimetype": "text/x-python",
   "name": "python",
   "nbconvert_exporter": "python",
   "pygments_lexer": "ipython3",
   "version": "3.6.4"
  }
 },
 "nbformat": 4,
 "nbformat_minor": 2
}
