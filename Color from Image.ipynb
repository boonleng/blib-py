{
 "cells": [
  {
   "cell_type": "markdown",
   "metadata": {},
   "source": [
    "The Origin of Color Swatch in blib-py\n",
    "===\n",
    "I found this color chart image from the web [Bailey Bunch Designs](https://www.baileybunchdesigns.com) and decidded to use the colors here for line colors. This is a short script to select a small area from each color swatch in the image and choose the closest match in the named color table, which is from a blog post at [Webucator]( https://www.webucator.com/blog/2015/03/python-color-constants-module) by Nat Dunn. The published script was modified and adpoted as a sub-module in blib."
   ]
  },
  {
   "cell_type": "code",
   "execution_count": null,
   "metadata": {
    "collapsed": true
   },
   "outputs": [],
   "source": [
    "%matplotlib inline\n",
    "import os\n",
    "import numpy as np\n",
    "import matplotlib\n",
    "import blib"
   ]
  },
  {
   "cell_type": "code",
   "execution_count": null,
   "metadata": {
    "collapsed": true
   },
   "outputs": [],
   "source": [
    "# Folder to store images\n",
    "folder = 'blob'\n",
    "\n",
    "# We could map the colors into either the table from cloford or CSS4\n",
    "useCloford = True"
   ]
  },
  {
   "cell_type": "code",
   "execution_count": null,
   "metadata": {
    "collapsed": true
   },
   "outputs": [],
   "source": [
    "# The color names to use\n",
    "if useCloford:\n",
    "    # Gather the 551 color names into an array of (N x 3) from sub-module colors\n",
    "    cs = [c[0] for c in blib.colors.items()]\n",
    "    cn = [[c[1].red, c[1].green, c[1].blue] for c in blib.colors.items()]\n",
    "    cnp = np.array(cn)\n",
    "else:\n",
    "    # Alternatively, we can use CSS4 color names, which is available from matplotlib\n",
    "    cs = [c[0] for c in matplotlib.colors.CSS4_COLORS.items()]\n",
    "    cn = [[int(v * 255) for v in matplotlib.colors.hex2color(c[1])] for c in matplotlib.colors.CSS4_COLORS.items()]\n",
    "    cnp = np.array(cn)\n",
    "\n",
    "# Lab representation\n",
    "ln = blib.rgb2lab(cn)\n",
    "lnp = np.array(ln)"
   ]
  },
  {
   "cell_type": "code",
   "execution_count": null,
   "metadata": {
    "scrolled": true
   },
   "outputs": [],
   "source": [
    "# Read an image\n",
    "im = matplotlib.image.imread(folder + '/color-chart.jpg')\n",
    "\n",
    "# Dimension on each side to extract color\n",
    "n = 5\n",
    "i = np.arange(42)\n",
    "xx = [int(s) for s in (i % 6) * 120 + 155]\n",
    "yy = [int(s) for s in np.floor(i / 6) * 120 + 200]\n",
    "\n",
    "swatch = []\n",
    "indices = []\n",
    "for x, y in list(zip(xx, yy)):\n",
    "    # Compute average of the patch\n",
    "    patch = im[y:y+n, x:x+n, :]\n",
    "    clr = [int(s) for s in np.mean(patch, axis=(0,1))]\n",
    "\n",
    "    # Color matching using RGB\n",
    "    #rms = np.sqrt(np.mean((clr - cnp) ** 2, axis=1))\n",
    "    \n",
    "    # Color matching using Lab\n",
    "    lab = blib.rgb2lab(clr).squeeze()\n",
    "    rms = np.sqrt(np.mean((lab - lnp) ** 2, axis=1))\n",
    "\n",
    "    # Find the best\n",
    "    idx = np.argmin(rms)\n",
    "    c = (cs[idx], blib.RGB(cnp[idx, 0], cnp[idx, 1], cnp[idx, 2]))\n",
    "    im[y-1    , x-1:x+n+1, :] = 0\n",
    "    im[y+n    , x-1:x+n+1, :] = 0\n",
    "    im[y-1:y+n+1, x-1    , :] = 0\n",
    "    im[y-1:y+n+1, x+n    , :] = 0\n",
    "    \n",
    "    print('i: {0:3d} --> [{1:3d} {2:3d} {3:3d}] : {4:5.1f} {5:16s} [{6:3d} {7:3d} {8:3d}]'.format(idx, clr[0], clr[1], clr[2], rms[idx], c[0], cnp[idx, 0], cnp[idx, 1], cnp[idx, 2]))\n",
    "    swatch.append(c)\n",
    "    indices.append(idx)"
   ]
  },
  {
   "cell_type": "markdown",
   "metadata": {},
   "source": [
    "Make a Pallete Image\n",
    "===\n",
    "\n",
    "This is the part we generate a nice looking image to show off the extrated color"
   ]
  },
  {
   "cell_type": "code",
   "execution_count": null,
   "metadata": {},
   "outputs": [],
   "source": [
    "fig = blib.showSwatch(swatch)"
   ]
  },
  {
   "cell_type": "code",
   "execution_count": null,
   "metadata": {
    "collapsed": true
   },
   "outputs": [],
   "source": [
    "# fig.savefig(folder + '/pallete-lab.png', dpi=3*72)\n",
    "# fig.savefig('/Users/boonleng/Desktop/pallete.png', dpi=3*72)\n",
    "# matplotlib.pyplot.imsave(folder + '/ex.png', im)"
   ]
  },
  {
   "cell_type": "code",
   "execution_count": null,
   "metadata": {
    "collapsed": true
   },
   "outputs": [],
   "source": []
  }
 ],
 "metadata": {
  "kernelspec": {
   "display_name": "Python 3",
   "language": "python",
   "name": "python3"
  },
  "language_info": {
   "codemirror_mode": {
    "name": "ipython",
    "version": 3
   },
   "file_extension": ".py",
   "mimetype": "text/x-python",
   "name": "python",
   "nbconvert_exporter": "python",
   "pygments_lexer": "ipython3",
   "version": "3.6.4"
  }
 },
 "nbformat": 4,
 "nbformat_minor": 2
}
